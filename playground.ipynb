{
 "cells": [
  {
   "cell_type": "markdown",
   "metadata": {},
   "source": [
    "# Tensor Type"
   ]
  },
  {
   "cell_type": "code",
   "execution_count": 128,
   "metadata": {},
   "outputs": [],
   "source": [
    "from colorama import Fore\n",
    "import numpy as np\n",
    "import torch\n",
    "import matplotlib.pyplot as plt"
   ]
  },
  {
   "cell_type": "code",
   "execution_count": 45,
   "metadata": {},
   "outputs": [
    {
     "name": "stdout",
     "output_type": "stream",
     "text": [
      "finfo(resolution=0.001, min=-65504, max=65504, eps=0.000976562, smallest_normal=6.10352e-05, tiny=6.10352e-05, dtype=float16)\n"
     ]
    }
   ],
   "source": [
    "print(torch.finfo(torch.float16))"
   ]
  },
  {
   "cell_type": "code",
   "execution_count": 52,
   "metadata": {},
   "outputs": [
    {
     "name": "stdout",
     "output_type": "stream",
     "text": [
      "\u001b[33mtensor:  tensor([[ 1.0581,  1.1815, -0.1524],\n",
      "        [-0.3225, -0.2422, -0.3847],\n",
      "        [-0.7268, -0.6225,  1.4781]], dtype=torch.float64)\n",
      "\u001b[32mtype: torch.float64\n"
     ]
    }
   ],
   "source": [
    "# initialize a tensor with dtype\n",
    "tensor = torch.randn(3, 3, dtype=torch.float64)\n",
    "print(Fore.YELLOW + \"tensor: \", tensor)\n",
    "print(f'{Fore.GREEN}type: {tensor.dtype}')"
   ]
  },
  {
   "cell_type": "code",
   "execution_count": 53,
   "metadata": {},
   "outputs": [
    {
     "name": "stdout",
     "output_type": "stream",
     "text": [
      "\u001b[32mtype: torch.float16\n"
     ]
    }
   ],
   "source": [
    "# convert to float16\n",
    "tensor = tensor.to(torch.float16)\n",
    "print(f'{Fore.GREEN}type: {tensor.dtype}')\n"
   ]
  },
  {
   "cell_type": "code",
   "execution_count": 58,
   "metadata": {},
   "outputs": [
    {
     "name": "stdout",
     "output_type": "stream",
     "text": [
      "\u001b[32mMPS is available and built\n",
      "\u001b[32mtype: torch.float16\n",
      "\u001b[32mdevice: mps:0\n",
      "\u001b[33mtensor: tensor([[ 1.0586,  1.1816, -0.1525],\n",
      "        [-0.3225, -0.2422, -0.3848],\n",
      "        [-0.7271, -0.6226,  1.4785]], device='mps:0', dtype=torch.float16)\n"
     ]
    }
   ],
   "source": [
    "# send tensor to GPU for M1\n",
    "if torch.backends.mps.is_available():\n",
    "    if torch.backends.mps.is_built():\n",
    "        print(f'{Fore.GREEN}MPS is available and built')\n",
    "        tensor = tensor.to('mps')\n",
    "        print(f'{Fore.GREEN}type: {tensor.dtype}')\n",
    "        print(f'{Fore.GREEN}device: {tensor.device}')\n",
    "        print(f'{Fore.YELLOW}tensor: {tensor}')"
   ]
  },
  {
   "cell_type": "code",
   "execution_count": 76,
   "metadata": {},
   "outputs": [
    {
     "name": "stdout",
     "output_type": "stream",
     "text": [
      "torch.LongTensor\n",
      "<class 'numpy.ndarray'>\n"
     ]
    }
   ],
   "source": [
    "np_array = np.array([[1,2],\n",
    "                     [3,4]])\n",
    "np_tensor = torch.from_numpy(np_array)\n",
    "print(np_tensor.type())\n",
    "again_np_array = np_tensor.numpy()\n",
    "print(type(again_np_array))"
   ]
  },
  {
   "cell_type": "code",
   "execution_count": 80,
   "metadata": {},
   "outputs": [
    {
     "data": {
      "text/plain": [
       "tensor([[0., 0., 0.],\n",
       "        [0., 0., 0.],\n",
       "        [0., 0., 0.]], device='mps:0', dtype=torch.float16)"
      ]
     },
     "execution_count": 80,
     "metadata": {},
     "output_type": "execute_result"
    }
   ],
   "source": [
    "zero_tesnor = torch.zeros_like(tensor)\n",
    "zero_tesnor"
   ]
  },
  {
   "cell_type": "code",
   "execution_count": 95,
   "metadata": {},
   "outputs": [
    {
     "name": "stdout",
     "output_type": "stream",
     "text": [
      "\u001b[33mAdded Tensor: tensor([[0.8591, 0.2347, 1.4125],\n",
      "        [1.8977, 0.8411, 1.0812],\n",
      "        [0.4850, 0.4350, 1.3346]], dtype=torch.float64)\n"
     ]
    }
   ],
   "source": [
    "x = torch.rand(3, 3, dtype=torch.float64)\n",
    "y = torch.rand(3, 3, dtype=torch.float64)\n",
    "z = torch.add(x, y)\n",
    "print(f'{Fore.YELLOW}Added Tensor: {z}')"
   ]
  },
  {
   "cell_type": "code",
   "execution_count": 100,
   "metadata": {},
   "outputs": [
    {
     "data": {
      "text/plain": [
       "1.8977360135092383"
      ]
     },
     "execution_count": 100,
     "metadata": {},
     "output_type": "execute_result"
    }
   ],
   "source": [
    "m = torch.max(z)\n",
    "m.item()"
   ]
  },
  {
   "cell_type": "code",
   "execution_count": 103,
   "metadata": {},
   "outputs": [
    {
     "name": "stdout",
     "output_type": "stream",
     "text": [
      "\u001b[33mAdded Tensor: tensor([[0.4864, 0.1316, 0.5228, 0.3727, 0.1031, 0.8897],\n",
      "        [0.9674, 0.3182, 0.0985, 0.9303, 0.5229, 0.9827],\n",
      "        [0.3577, 0.3143, 0.8462, 0.1273, 0.1207, 0.4884]], dtype=torch.float64)\n"
     ]
    }
   ],
   "source": [
    "cat_tensor = torch.cat((x, y), dim=1)\n",
    "print(f'{Fore.YELLOW}Added Tensor: {cat_tensor}')"
   ]
  },
  {
   "cell_type": "code",
   "execution_count": 107,
   "metadata": {},
   "outputs": [
    {
     "name": "stdout",
     "output_type": "stream",
     "text": [
      "tensor([[0.4864, 0.1316],\n",
      "        [0.9674, 0.3182],\n",
      "        [0.3577, 0.3143]], dtype=torch.float64)\n"
     ]
    }
   ],
   "source": [
    "print(cat_tensor[:, :2]) "
   ]
  },
  {
   "cell_type": "code",
   "execution_count": 111,
   "metadata": {},
   "outputs": [
    {
     "name": "stdout",
     "output_type": "stream",
     "text": [
      "tensor([[0.0216, 0.1675, 0.7990],\n",
      "        [0.9553, 0.7694, 0.9403],\n",
      "        [0.0207, 0.1886, 0.4844]])\n"
     ]
    }
   ],
   "source": [
    "from torch import nn\n",
    "\n",
    "class Net(nn.Module):\n",
    "    def __init__(self):\n",
    "        super().__init__()\n",
    "        self.flatten = nn.Flatten()\n",
    "        \n",
    "    def forward(self, x):\n",
    "        tensor = self.flatten(x)\n",
    "        return tensor\n",
    "    \n",
    "\n",
    "img = torch.rand(3, 3)     \n",
    "net = Net()\n",
    "output = net(img)\n",
    "print(output) \n"
   ]
  },
  {
   "cell_type": "code",
   "execution_count": 124,
   "metadata": {},
   "outputs": [
    {
     "name": "stdout",
     "output_type": "stream",
     "text": [
      "\u001b[33mInput Tensor: tensor([[0.9779, 0.6654, 0.6634, 0.6763],\n",
      "        [0.9086, 0.4428, 0.2012, 0.9705],\n",
      "        [0.1821, 0.2402, 0.4939, 0.6905]])\n",
      "\u001b[32mWeights Matrix: Parameter containing:\n",
      "tensor([[-0.2920, -0.1652,  0.2720,  0.1566],\n",
      "        [-0.0512,  0.4544,  0.2939,  0.2550]], requires_grad=True)\n",
      "\u001b[31mBias Matrix: Parameter containing:\n",
      "tensor([-0.1627, -0.1798], requires_grad=True)\n",
      "tensor([[-0.2718,  0.4399],\n",
      "        [-0.2945,  0.2814],\n",
      "        [-0.0131,  0.2412]], grad_fn=<AddmmBackward0>)\n"
     ]
    }
   ],
   "source": [
    "class NeuralNet(nn.Module):\n",
    "    def __init__(self, input_size, num_classes):\n",
    "        super().__init__()\n",
    "        self.nn = nn.Linear(input_size, num_classes)\n",
    "        print(f'{Fore.GREEN}Weights Matrix: {self.nn.weight}')\n",
    "        print(f'{Fore.RED}Bias Matrix: {self.nn.bias}')\n",
    "        \n",
    "    def forward(self, x):\n",
    "        output = self.nn(x)\n",
    "        return output\n",
    "    \n",
    "x = torch.rand(3, 4)\n",
    "print(f'{Fore.YELLOW}Input Tensor: {x}')   \n",
    "model = NeuralNet(4, 2)\n",
    "output = model(x)\n",
    "print(output)"
   ]
  },
  {
   "cell_type": "code",
   "execution_count": 133,
   "metadata": {},
   "outputs": [
    {
     "name": "stdout",
     "output_type": "stream",
     "text": [
      "\u001b[34mInput Tensor: tensor([-4.0000, -3.9000, -3.8000, -3.7000, -3.6000, -3.5000, -3.4000, -3.3000,\n",
      "        -3.2000, -3.1000, -3.0000, -2.9000, -2.8000, -2.7000, -2.6000, -2.5000,\n",
      "        -2.4000, -2.3000, -2.2000, -2.1000, -2.0000, -1.9000, -1.8000, -1.7000,\n",
      "        -1.6000, -1.5000, -1.4000, -1.3000, -1.2000, -1.1000, -1.0000, -0.9000,\n",
      "        -0.8000, -0.7000, -0.6000, -0.5000, -0.4000, -0.3000, -0.2000, -0.1000,\n",
      "         0.0000,  0.1000,  0.2000,  0.3000,  0.4000,  0.5000,  0.6000,  0.7000,\n",
      "         0.8000,  0.9000,  1.0000,  1.1000,  1.2000,  1.3000,  1.4000,  1.5000,\n",
      "         1.6000,  1.7000,  1.8000,  1.9000,  2.0000,  2.1000,  2.2000,  2.3000,\n",
      "         2.4000,  2.5000,  2.6000,  2.7000,  2.8000,  2.9000,  3.0000,  3.1000,\n",
      "         3.2000,  3.3000,  3.4000,  3.5000,  3.6000,  3.7000,  3.8000,  3.9000])\n",
      "\u001b[33mSigmoid Output: tensor([0.0180, 0.0198, 0.0219, 0.0241, 0.0266, 0.0293, 0.0323, 0.0356, 0.0392,\n",
      "        0.0431, 0.0474, 0.0522, 0.0573, 0.0630, 0.0691, 0.0759, 0.0832, 0.0911,\n",
      "        0.0998, 0.1091, 0.1192, 0.1301, 0.1419, 0.1545, 0.1680, 0.1824, 0.1978,\n",
      "        0.2142, 0.2315, 0.2497, 0.2689, 0.2891, 0.3100, 0.3318, 0.3543, 0.3775,\n",
      "        0.4013, 0.4256, 0.4502, 0.4750, 0.5000, 0.5250, 0.5498, 0.5744, 0.5987,\n",
      "        0.6225, 0.6457, 0.6682, 0.6900, 0.7109, 0.7311, 0.7503, 0.7685, 0.7858,\n",
      "        0.8022, 0.8176, 0.8320, 0.8455, 0.8581, 0.8699, 0.8808, 0.8909, 0.9002,\n",
      "        0.9089, 0.9168, 0.9241, 0.9309, 0.9370, 0.9427, 0.9478, 0.9526, 0.9569,\n",
      "        0.9608, 0.9644, 0.9677, 0.9707, 0.9734, 0.9759, 0.9781, 0.9802])\n"
     ]
    }
   ],
   "source": [
    "tensor_x = torch.arange(-4, 4, step=0.1, dtype=torch.float32)\n",
    "print(f'{Fore.BLUE}Input Tensor: {tensor_x}')\n",
    "activation = nn.Sigmoid()\n",
    "output = activation(tensor_x)\n",
    "print(f'{Fore.YELLOW}Sigmoid Output: {output}')"
   ]
  },
  {
   "cell_type": "code",
   "execution_count": 134,
   "metadata": {},
   "outputs": [
    {
     "name": "stdout",
     "output_type": "stream",
     "text": [
      "\u001b[33mReLU Output: tensor([-4.0000e-02, -3.9000e-02, -3.8000e-02, -3.7000e-02, -3.6000e-02,\n",
      "        -3.5000e-02, -3.4000e-02, -3.3000e-02, -3.2000e-02, -3.1000e-02,\n",
      "        -3.0000e-02, -2.9000e-02, -2.8000e-02, -2.7000e-02, -2.6000e-02,\n",
      "        -2.5000e-02, -2.4000e-02, -2.3000e-02, -2.2000e-02, -2.1000e-02,\n",
      "        -2.0000e-02, -1.9000e-02, -1.8000e-02, -1.7000e-02, -1.6000e-02,\n",
      "        -1.5000e-02, -1.4000e-02, -1.3000e-02, -1.2000e-02, -1.1000e-02,\n",
      "        -1.0000e-02, -9.0000e-03, -8.0000e-03, -7.0000e-03, -6.0000e-03,\n",
      "        -5.0000e-03, -4.0000e-03, -3.0000e-03, -2.0000e-03, -1.0000e-03,\n",
      "         0.0000e+00,  1.0000e-01,  2.0000e-01,  3.0000e-01,  4.0000e-01,\n",
      "         5.0000e-01,  6.0000e-01,  7.0000e-01,  8.0000e-01,  9.0000e-01,\n",
      "         1.0000e+00,  1.1000e+00,  1.2000e+00,  1.3000e+00,  1.4000e+00,\n",
      "         1.5000e+00,  1.6000e+00,  1.7000e+00,  1.8000e+00,  1.9000e+00,\n",
      "         2.0000e+00,  2.1000e+00,  2.2000e+00,  2.3000e+00,  2.4000e+00,\n",
      "         2.5000e+00,  2.6000e+00,  2.7000e+00,  2.8000e+00,  2.9000e+00,\n",
      "         3.0000e+00,  3.1000e+00,  3.2000e+00,  3.3000e+00,  3.4000e+00,\n",
      "         3.5000e+00,  3.6000e+00,  3.7000e+00,  3.8000e+00,  3.9000e+00])\n"
     ]
    }
   ],
   "source": [
    "activation_relu = nn.LeakyReLU()\n",
    "output_relu = activation_relu(tensor_x)\n",
    "print(f'{Fore.YELLOW}ReLU Output: {output_relu}')"
   ]
  },
  {
   "cell_type": "code",
   "execution_count": 135,
   "metadata": {},
   "outputs": [
    {
     "data": {
      "image/png": "[encoded data removed]",
      "text/plain": [
       "<Figure size 640x480 with 1 Axes>"
      ]
     },
     "metadata": {},
     "output_type": "display_data"
    }
   ],
   "source": [
    "plt.plot(tensor_x.numpy(), output_relu.numpy())\n",
    "plt.show()"
   ]
  },
  {
   "cell_type": "code",
   "execution_count": 136,
   "metadata": {},
   "outputs": [
    {
     "name": "stdout",
     "output_type": "stream",
     "text": [
      "\u001b[33mInput Tensor: tensor([[8., 7., 5., 7.],\n",
      "        [7., 9., 6., 3.],\n",
      "        [8., 7., 1., 4.]])\n",
      "tensor([[0.0183, 0.0068],\n",
      "        [0.0178, 0.0369],\n",
      "        [0.0719, 0.0136]], grad_fn=<SigmoidBackward0>)\n"
     ]
    }
   ],
   "source": [
    "class NeuralNet(nn.Module):\n",
    "    def __init__(self, input_size, num_classes):\n",
    "        super().__init__()\n",
    "        self.nn = nn.Linear(input_size, num_classes)\n",
    "        self.activation = nn.Sigmoid()\n",
    "        \n",
    "    def forward(self, x):\n",
    "        output = self.activation(self.nn(x))\n",
    "        return output\n",
    "    \n",
    "x = torch.randint(0, 10, (3, 4), dtype=torch.float32)\n",
    "print(f'{Fore.YELLOW}Input Tensor: {x}')   \n",
    "model = NeuralNet(4, 2)\n",
    "output = model(x)\n",
    "print(output)"
   ]
  },
  {
   "cell_type": "code",
   "execution_count": 142,
   "metadata": {},
   "outputs": [
    {
     "name": "stdout",
     "output_type": "stream",
     "text": [
      "\u001b[33mInput Tensor: tensor([[5., 7., 1., 3.],\n",
      "        [6., 4., 7., 4.],\n",
      "        [8., 4., 0., 2.]])\n",
      "tensor([[0.0051, 0.3134],\n",
      "        [0.0051, 0.3132],\n",
      "        [0.0052, 0.3130]], grad_fn=<AddmmBackward0>)\n"
     ]
    }
   ],
   "source": [
    "class NeuralNet(nn.Module):\n",
    "    def __init__(self, input_size, num_classes, hidden_layers = 10, layer_size = 5):\n",
    "        super().__init__()\n",
    "        self.deep = nn.Sequential()\n",
    "        for i in range(hidden_layers):\n",
    "            self.deep.add_module(f'ff{i}', nn.Linear(input_size, layer_size))\n",
    "            self.deep.add_module(f'activation{i}', nn.ReLU())\n",
    "            input_size = layer_size\n",
    "        self.deep.add_module(f'Output Layer', nn.Linear(input_size, num_classes))    \n",
    "        \n",
    "    def forward(self, x):\n",
    "        output = self.deep(x)\n",
    "        return output\n",
    "    \n",
    "x = torch.randint(0, 10, (3, 4), dtype=torch.float32)\n",
    "print(f'{Fore.YELLOW}Input Tensor: {x}')   \n",
    "model = NeuralNet(4, 2)\n",
    "output = model(x)\n",
    "print(output)"
   ]
  },
  {
   "cell_type": "code",
   "execution_count": 143,
   "metadata": {},
   "outputs": [
    {
     "data": {
      "text/plain": [
       "NeuralNet(\n",
       "  (deep): Sequential(\n",
       "    (ff0): Linear(in_features=4, out_features=5, bias=True)\n",
       "    (activation0): ReLU()\n",
       "    (ff1): Linear(in_features=5, out_features=5, bias=True)\n",
       "    (activation1): ReLU()\n",
       "    (ff2): Linear(in_features=5, out_features=5, bias=True)\n",
       "    (activation2): ReLU()\n",
       "    (ff3): Linear(in_features=5, out_features=5, bias=True)\n",
       "    (activation3): ReLU()\n",
       "    (ff4): Linear(in_features=5, out_features=5, bias=True)\n",
       "    (activation4): ReLU()\n",
       "    (ff5): Linear(in_features=5, out_features=5, bias=True)\n",
       "    (activation5): ReLU()\n",
       "    (ff6): Linear(in_features=5, out_features=5, bias=True)\n",
       "    (activation6): ReLU()\n",
       "    (ff7): Linear(in_features=5, out_features=5, bias=True)\n",
       "    (activation7): ReLU()\n",
       "    (ff8): Linear(in_features=5, out_features=5, bias=True)\n",
       "    (activation8): ReLU()\n",
       "    (ff9): Linear(in_features=5, out_features=5, bias=True)\n",
       "    (activation9): ReLU()\n",
       "    (Output Layer): Linear(in_features=5, out_features=2, bias=True)\n",
       "  )\n",
       ")"
      ]
     },
     "execution_count": 143,
     "metadata": {},
     "output_type": "execute_result"
    }
   ],
   "source": [
    "model"
   ]
  },
  {
   "cell_type": "code",
   "execution_count": 145,
   "metadata": {},
   "outputs": [
    {
     "name": "stdout",
     "output_type": "stream",
     "text": [
      "\u001b[33mPredictions: tensor([0.5011, 0.6109], requires_grad=True)\n",
      "\u001b[34mLabels: tensor([0.2701, 0.5047])\n",
      "\u001b[31mMAE Loss: 0.16856226325035095\n",
      "\u001b[31mMSE Loss: 0.03230322524905205\n"
     ]
    }
   ],
   "source": [
    "predictions = torch.rand(2, requires_grad=True)\n",
    "print(f'{Fore.YELLOW}Predictions: {predictions}')\n",
    "labels = torch.rand(2)\n",
    "print(f'{Fore.BLUE}Labels: {labels}')\n",
    "\n",
    "mae_loss = abs(labels - predictions).sum()/labels.shape[0]\n",
    "print(f'{Fore.RED}MAE Loss: {mae_loss}')\n",
    "\n",
    "mae_loss = pow((labels - predictions), 2).sum()/labels.shape[0]\n",
    "print(f'{Fore.RED}MSE Loss: {mae_loss}')"
   ]
  },
  {
   "cell_type": "code",
   "execution_count": 147,
   "metadata": {},
   "outputs": [
    {
     "name": "stdout",
     "output_type": "stream",
     "text": [
      "\u001b[31mL1 Loss: 0.16856226325035095\n",
      "\u001b[31mL2 Loss: 0.03230322524905205\n"
     ]
    }
   ],
   "source": [
    "l1_loss = nn.L1Loss()\n",
    "l2_loss = nn.MSELoss()\n",
    "\n",
    "l1_output = l1_loss(predictions, labels)\n",
    "#l1_output.backward()\n",
    "l2_output = l2_loss(predictions, labels)\n",
    "#l2_output.backward()\n",
    "print(f'{Fore.RED}L1 Loss: {l1_output}')\n",
    "print(f'{Fore.RED}L2 Loss: {l2_output}')"
   ]
  },
  {
   "cell_type": "code",
   "execution_count": 156,
   "metadata": {},
   "outputs": [
    {
     "data": {
      "text/plain": [
       "tensor([[0.1102, 0.9711, 0.8715, 0.4572, 0.9048],\n",
       "        [0.2777, 0.2911, 0.0299, 0.0877, 0.7316],\n",
       "        [0.5903, 0.8071, 0.1717, 0.2416, 0.8212]], requires_grad=True)"
      ]
     },
     "execution_count": 156,
     "metadata": {},
     "output_type": "execute_result"
    }
   ],
   "source": [
    "p = torch.rand(3, 5, requires_grad=True)\n",
    "p"
   ]
  },
  {
   "cell_type": "code",
   "execution_count": 166,
   "metadata": {},
   "outputs": [
    {
     "data": {
      "text/plain": [
       "tensor([0, 1, 2])"
      ]
     },
     "execution_count": 166,
     "metadata": {},
     "output_type": "execute_result"
    }
   ],
   "source": [
    "t = torch.tensor([0, 1, 2])\n",
    "t"
   ]
  },
  {
   "cell_type": "code",
   "execution_count": 167,
   "metadata": {},
   "outputs": [
    {
     "name": "stdout",
     "output_type": "stream",
     "text": [
      "\u001b[31mCross Entropy Loss: 1.9491052627563477\n"
     ]
    }
   ],
   "source": [
    "loss = nn.CrossEntropyLoss()\n",
    "output = loss(p, t)\n",
    "print(f'{Fore.RED}Cross Entropy Loss: {output}')"
   ]
  },
  {
   "cell_type": "code",
   "execution_count": null,
   "metadata": {},
   "outputs": [],
   "source": []
  }
 ],
 "metadata": {
  "kernelspec": {
   "display_name": "pytorch3D",
   "language": "python",
   "name": "python3"
  },
  "language_info": {
   "codemirror_mode": {
    "name": "ipython",
    "version": 3
   },
   "file_extension": ".py",
   "mimetype": "text/x-python",
   "name": "python",
   "nbconvert_exporter": "python",
   "pygments_lexer": "ipython3",
   "version": "3.9.18"
  },
  "orig_nbformat": 4
 },
 "nbformat": 4,
 "nbformat_minor": 2
}
